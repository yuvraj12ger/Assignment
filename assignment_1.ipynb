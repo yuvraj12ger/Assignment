{
  "metadata": {
    "language_info": {
      "codemirror_mode": {
        "name": "python",
        "version": 3
      },
      "file_extension": ".py",
      "mimetype": "text/x-python",
      "name": "python",
      "nbconvert_exporter": "python",
      "pygments_lexer": "ipython3",
      "version": "3.8"
    },
    "kernelspec": {
      "name": "python",
      "display_name": "Pyolite",
      "language": "python"
    }
  },
  "nbformat_minor": 4,
  "nbformat": 4,
  "cells": [
    {
      "cell_type": "code",
      "source": "# Quest 1\na = 22\nb = 21\nc = 34\navg = (a+b+c)/3\nprint(round(avg,2))",
      "metadata": {
        "trusted": true
      },
      "execution_count": 2,
      "outputs": [
        {
          "name": "stdout",
          "text": "25.67\n",
          "output_type": "stream"
        }
      ]
    },
    {
      "cell_type": "code",
      "source": "# Quest 2\nincome = 200000\nded = 10000\ntaxable_income = income - ded\ndependents = 56\ntaxable_income = taxable_income - (dependents)*3000\ntax = taxable_income/5.0\nprint(tax)",
      "metadata": {
        "trusted": true
      },
      "execution_count": 11,
      "outputs": [
        {
          "name": "stdout",
          "text": "4400.0\n",
          "output_type": "stream"
        }
      ]
    },
    {
      "cell_type": "code",
      "source": "# Quest 3\na = 200\nminutes = 200//60\nseconds = 200%60\nprint(minutes, seconds)",
      "metadata": {
        "trusted": true
      },
      "execution_count": 14,
      "outputs": [
        {
          "name": "stdout",
          "text": "3 20\n",
          "output_type": "stream"
        }
      ]
    },
    {
      "cell_type": "code",
      "source": "# Quest 4\na = 25\nb = 25.0\nc = '25'\nsum = int(a) + int(b) + int(c) \nprint(str(sum))",
      "metadata": {
        "trusted": true
      },
      "execution_count": 17,
      "outputs": [
        {
          "name": "stdout",
          "text": "75\n",
          "output_type": "stream"
        }
      ]
    },
    {
      "cell_type": "code",
      "source": "# Quest 5\nimport math as math\nangle = 0\nwhile angle < 360:\n    rad = angle * math.pi / 180\n    print('angle: ' + str(angle) + ' sin: ' + str(round(math.sin(rad), 4)) + ' cos: ' + str(round(math.cos(rad),4)))\n    angle += 15",
      "metadata": {
        "trusted": true
      },
      "execution_count": 3,
      "outputs": [
        {
          "name": "stdout",
          "text": "angle: 0 sin: 0.0 cos: 1.0\nangle: 15 sin: 0.2588 cos: 0.9659\nangle: 30 sin: 0.5 cos: 0.866\nangle: 45 sin: 0.7071 cos: 0.7071\nangle: 60 sin: 0.866 cos: 0.5\nangle: 75 sin: 0.9659 cos: 0.2588\nangle: 90 sin: 1.0 cos: 0.0\nangle: 105 sin: 0.9659 cos: -0.2588\nangle: 120 sin: 0.866 cos: -0.5\nangle: 135 sin: 0.7071 cos: -0.7071\nangle: 150 sin: 0.5 cos: -0.866\nangle: 165 sin: 0.2588 cos: -0.9659\nangle: 180 sin: 0.0 cos: -1.0\nangle: 195 sin: -0.2588 cos: -0.9659\nangle: 210 sin: -0.5 cos: -0.866\nangle: 225 sin: -0.7071 cos: -0.7071\nangle: 240 sin: -0.866 cos: -0.5\nangle: 255 sin: -0.9659 cos: -0.2588\nangle: 270 sin: -1.0 cos: -0.0\nangle: 285 sin: -0.9659 cos: 0.2588\nangle: 300 sin: -0.866 cos: 0.5\nangle: 315 sin: -0.7071 cos: 0.7071\nangle: 330 sin: -0.5 cos: 0.866\nangle: 345 sin: -0.2588 cos: 0.9659\n",
          "output_type": "stream"
        }
      ]
    },
    {
      "cell_type": "code",
      "source": "",
      "metadata": {},
      "execution_count": null,
      "outputs": []
    }
  ]
}